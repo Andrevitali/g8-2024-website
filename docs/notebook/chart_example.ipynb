{
 "cells": [
  {
   "cell_type": "code",
   "id": "initial_id",
   "metadata": {
    "collapsed": true,
    "ExecuteTime": {
     "end_time": "2024-07-11T22:31:51.452680Z",
     "start_time": "2024-07-11T22:31:51.449296Z"
    }
   },
   "source": [
    "import pandas as pd\n",
    "import altair as alt"
   ],
   "outputs": [],
   "execution_count": 9
  },
  {
   "metadata": {
    "ExecuteTime": {
     "end_time": "2024-07-11T22:31:52.447434Z",
     "start_time": "2024-07-11T22:31:52.435889Z"
    }
   },
   "cell_type": "code",
   "source": [
    "ordered_df = pd.read_csv('../_data/PriceByLanguage.csv')\n",
    "ordered_df.head()"
   ],
   "id": "ae54975dc67bc164",
   "outputs": [
    {
     "data": {
      "text/plain": [
       "   Unnamed: 0 langid  avg_price_range  count_reviews   language\n",
       "0          45     no         1.985226           1286  Norwegian\n",
       "1          11     da         1.970159           1508     Danish\n",
       "2          14     en         1.963134         106765    English\n",
       "3          31     ja         1.960280            856   Japanese\n",
       "4          30     it         1.952528         322593    Italian"
      ],
      "text/html": [
       "<div>\n",
       "<style scoped>\n",
       "    .dataframe tbody tr th:only-of-type {\n",
       "        vertical-align: middle;\n",
       "    }\n",
       "\n",
       "    .dataframe tbody tr th {\n",
       "        vertical-align: top;\n",
       "    }\n",
       "\n",
       "    .dataframe thead th {\n",
       "        text-align: right;\n",
       "    }\n",
       "</style>\n",
       "<table border=\"1\" class=\"dataframe\">\n",
       "  <thead>\n",
       "    <tr style=\"text-align: right;\">\n",
       "      <th></th>\n",
       "      <th>Unnamed: 0</th>\n",
       "      <th>langid</th>\n",
       "      <th>avg_price_range</th>\n",
       "      <th>count_reviews</th>\n",
       "      <th>language</th>\n",
       "    </tr>\n",
       "  </thead>\n",
       "  <tbody>\n",
       "    <tr>\n",
       "      <th>0</th>\n",
       "      <td>45</td>\n",
       "      <td>no</td>\n",
       "      <td>1.985226</td>\n",
       "      <td>1286</td>\n",
       "      <td>Norwegian</td>\n",
       "    </tr>\n",
       "    <tr>\n",
       "      <th>1</th>\n",
       "      <td>11</td>\n",
       "      <td>da</td>\n",
       "      <td>1.970159</td>\n",
       "      <td>1508</td>\n",
       "      <td>Danish</td>\n",
       "    </tr>\n",
       "    <tr>\n",
       "      <th>2</th>\n",
       "      <td>14</td>\n",
       "      <td>en</td>\n",
       "      <td>1.963134</td>\n",
       "      <td>106765</td>\n",
       "      <td>English</td>\n",
       "    </tr>\n",
       "    <tr>\n",
       "      <th>3</th>\n",
       "      <td>31</td>\n",
       "      <td>ja</td>\n",
       "      <td>1.960280</td>\n",
       "      <td>856</td>\n",
       "      <td>Japanese</td>\n",
       "    </tr>\n",
       "    <tr>\n",
       "      <th>4</th>\n",
       "      <td>30</td>\n",
       "      <td>it</td>\n",
       "      <td>1.952528</td>\n",
       "      <td>322593</td>\n",
       "      <td>Italian</td>\n",
       "    </tr>\n",
       "  </tbody>\n",
       "</table>\n",
       "</div>"
      ]
     },
     "execution_count": 10,
     "metadata": {},
     "output_type": "execute_result"
    }
   ],
   "execution_count": 10
  },
  {
   "metadata": {
    "ExecuteTime": {
     "end_time": "2024-07-11T22:32:04.532901Z",
     "start_time": "2024-07-11T22:32:04.512502Z"
    }
   },
   "cell_type": "code",
   "source": [
    "chart = alt.Chart(ordered_df).mark_bar().encode(\n",
    "    x=alt.X('avg_price_range:Q', title='Average Price Range'),\n",
    "    y=alt.Y('language:N', sort='-x', title='Language'),\n",
    "    color=alt.Color('avg_price_range:Q', scale=alt.Scale(scheme='goldorange')),\n",
    "    tooltip=['avg_price_range:Q', 'count_reviews:Q']\n",
    ").properties(\n",
    "    title='Average Price Range by Language',\n",
    "    width=600,\n",
    "    height=800\n",
    ")"
   ],
   "id": "760c1b3a2dec9f63",
   "outputs": [],
   "execution_count": 11
  },
  {
   "metadata": {
    "ExecuteTime": {
     "end_time": "2024-07-11T22:40:09.706765Z",
     "start_time": "2024-07-11T22:40:09.684198Z"
    }
   },
   "cell_type": "code",
   "source": [
    "chart = alt.Chart(ordered_df).mark_bar(opacity=0.8).encode(\n",
    "    x=alt.X('avg_price_range:Q', title='Average Price Range'),\n",
    "    y=alt.Y('language:N', sort='-x', title='Language'),\n",
    "    color=alt.Color('avg_price_range:Q', scale=alt.Scale(scheme='goldorange')),\n",
    "    tooltip=['avg_price_range:Q', 'count_reviews:Q']\n",
    ").properties(\n",
    "    title='Average Price Range by Language',\n",
    "    width='container',\n",
    "    height=500\n",
    ")"
   ],
   "id": "1882443e7c89f31",
   "outputs": [],
   "execution_count": 20
  },
  {
   "metadata": {
    "ExecuteTime": {
     "end_time": "2024-07-11T22:32:27.637548Z",
     "start_time": "2024-07-11T22:32:27.620586Z"
    }
   },
   "cell_type": "code",
   "source": "chart",
   "id": "60d2e2e45add46cd",
   "outputs": [
    {
     "data": {
      "text/html": [
       "\n",
       "<style>\n",
       "  #altair-viz-f323842fe7de42a18b3a78f79ccf6b11.vega-embed {\n",
       "    width: 100%;\n",
       "    display: flex;\n",
       "  }\n",
       "\n",
       "  #altair-viz-f323842fe7de42a18b3a78f79ccf6b11.vega-embed details,\n",
       "  #altair-viz-f323842fe7de42a18b3a78f79ccf6b11.vega-embed details summary {\n",
       "    position: relative;\n",
       "  }\n",
       "</style>\n",
       "<div id=\"altair-viz-f323842fe7de42a18b3a78f79ccf6b11\"></div>\n",
       "<script type=\"text/javascript\">\n",
       "  var VEGA_DEBUG = (typeof VEGA_DEBUG == \"undefined\") ? {} : VEGA_DEBUG;\n",
       "  (function(spec, embedOpt){\n",
       "    let outputDiv = document.currentScript.previousElementSibling;\n",
       "    if (outputDiv.id !== \"altair-viz-f323842fe7de42a18b3a78f79ccf6b11\") {\n",
       "      outputDiv = document.getElementById(\"altair-viz-f323842fe7de42a18b3a78f79ccf6b11\");\n",
       "    }\n",
       "    const paths = {\n",
       "      \"vega\": \"https://cdn.jsdelivr.net/npm/vega@5?noext\",\n",
       "      \"vega-lib\": \"https://cdn.jsdelivr.net/npm/vega-lib?noext\",\n",
       "      \"vega-lite\": \"https://cdn.jsdelivr.net/npm/vega-lite@5.17.0?noext\",\n",
       "      \"vega-embed\": \"https://cdn.jsdelivr.net/npm/vega-embed@6?noext\",\n",
       "    };\n",
       "\n",
       "    function maybeLoadScript(lib, version) {\n",
       "      var key = `${lib.replace(\"-\", \"\")}_version`;\n",
       "      return (VEGA_DEBUG[key] == version) ?\n",
       "        Promise.resolve(paths[lib]) :\n",
       "        new Promise(function(resolve, reject) {\n",
       "          var s = document.createElement('script');\n",
       "          document.getElementsByTagName(\"head\")[0].appendChild(s);\n",
       "          s.async = true;\n",
       "          s.onload = () => {\n",
       "            VEGA_DEBUG[key] = version;\n",
       "            return resolve(paths[lib]);\n",
       "          };\n",
       "          s.onerror = () => reject(`Error loading script: ${paths[lib]}`);\n",
       "          s.src = paths[lib];\n",
       "        });\n",
       "    }\n",
       "\n",
       "    function showError(err) {\n",
       "      outputDiv.innerHTML = `<div class=\"error\" style=\"color:red;\">${err}</div>`;\n",
       "      throw err;\n",
       "    }\n",
       "\n",
       "    function displayChart(vegaEmbed) {\n",
       "      vegaEmbed(outputDiv, spec, embedOpt)\n",
       "        .catch(err => showError(`Javascript Error: ${err.message}<br>This usually means there's a typo in your chart specification. See the javascript console for the full traceback.`));\n",
       "    }\n",
       "\n",
       "    if(typeof define === \"function\" && define.amd) {\n",
       "      requirejs.config({paths});\n",
       "      require([\"vega-embed\"], displayChart, err => showError(`Error loading script: ${err.message}`));\n",
       "    } else {\n",
       "      maybeLoadScript(\"vega\", \"5\")\n",
       "        .then(() => maybeLoadScript(\"vega-lite\", \"5.17.0\"))\n",
       "        .then(() => maybeLoadScript(\"vega-embed\", \"6\"))\n",
       "        .catch(showError)\n",
       "        .then(() => displayChart(vegaEmbed));\n",
       "    }\n",
       "  })({\"config\": {\"view\": {\"continuousWidth\": 300, \"continuousHeight\": 300}}, \"data\": {\"name\": \"data-6e9c74186e06b6dac608085ce72c07e2\"}, \"mark\": {\"type\": \"bar\"}, \"encoding\": {\"color\": {\"field\": \"avg_price_range\", \"scale\": {\"scheme\": \"goldorange\"}, \"type\": \"quantitative\"}, \"tooltip\": [{\"field\": \"avg_price_range\", \"type\": \"quantitative\"}, {\"field\": \"count_reviews\", \"type\": \"quantitative\"}], \"x\": {\"field\": \"avg_price_range\", \"title\": \"Average Price Range\", \"type\": \"quantitative\"}, \"y\": {\"field\": \"language\", \"sort\": \"-x\", \"title\": \"Language\", \"type\": \"nominal\"}}, \"height\": 500, \"title\": \"Average Price Range by Language\", \"width\": \"container\", \"$schema\": \"https://vega.github.io/schema/vega-lite/v5.17.0.json\", \"datasets\": {\"data-6e9c74186e06b6dac608085ce72c07e2\": [{\"Unnamed: 0\": 45, \"langid\": \"no\", \"avg_price_range\": 1.9852255054432348, \"count_reviews\": 1286, \"language\": \"Norwegian\"}, {\"Unnamed: 0\": 11, \"langid\": \"da\", \"avg_price_range\": 1.970159151193634, \"count_reviews\": 1508, \"language\": \"Danish\"}, {\"Unnamed: 0\": 14, \"langid\": \"en\", \"avg_price_range\": 1.963133985856788, \"count_reviews\": 106765, \"language\": \"English\"}, {\"Unnamed: 0\": 31, \"langid\": \"ja\", \"avg_price_range\": 1.960280373831776, \"count_reviews\": 856, \"language\": \"Japanese\"}, {\"Unnamed: 0\": 30, \"langid\": \"it\", \"avg_price_range\": 1.9525284181615843, \"count_reviews\": 322593, \"language\": \"Italian\"}, {\"Unnamed: 0\": 51, \"langid\": \"ru\", \"avg_price_range\": 1.938039990125895, \"count_reviews\": 4051, \"language\": \"Russian\"}, {\"Unnamed: 0\": 57, \"langid\": \"sv\", \"avg_price_range\": 1.9379398592450416, \"count_reviews\": 1563, \"language\": \"Swedish\"}, {\"Unnamed: 0\": 43, \"langid\": \"nl\", \"avg_price_range\": 1.9251325989392083, \"count_reviews\": 4902, \"language\": \"Dutch\"}, {\"Unnamed: 0\": 66, \"langid\": \"zh\", \"avg_price_range\": 1.9248927038626609, \"count_reviews\": 466, \"language\": \"Chinese\"}, {\"Unnamed: 0\": 23, \"langid\": \"he\", \"avg_price_range\": 1.924342105263158, \"count_reviews\": 608, \"language\": \"Hebrew\"}, {\"Unnamed: 0\": 48, \"langid\": \"pt\", \"avg_price_range\": 1.923376062220942, \"count_reviews\": 6943, \"language\": \"Portuguese\"}, {\"Unnamed: 0\": 12, \"langid\": \"de\", \"avg_price_range\": 1.9214551015949315, \"count_reviews\": 9154, \"language\": \"German\"}, {\"Unnamed: 0\": 53, \"langid\": \"sk\", \"avg_price_range\": 1.9113924050632911, \"count_reviews\": 79, \"language\": \"Slovak\"}, {\"Unnamed: 0\": 21, \"langid\": \"fr\", \"avg_price_range\": 1.901488450671405, \"count_reviews\": 34331, \"language\": \"French\"}, {\"Unnamed: 0\": 24, \"langid\": \"hr\", \"avg_price_range\": 1.8953488372093024, \"count_reviews\": 86, \"language\": \"Croatian\"}, {\"Unnamed: 0\": 20, \"langid\": \"fi\", \"avg_price_range\": 1.886255924170616, \"count_reviews\": 211, \"language\": \"Finnish\"}, {\"Unnamed: 0\": 35, \"langid\": \"ko\", \"avg_price_range\": 1.8854166666666667, \"count_reviews\": 384, \"language\": \"Korean\"}, {\"Unnamed: 0\": 3, \"langid\": \"ar\", \"avg_price_range\": 1.8846153846153848, \"count_reviews\": 78, \"language\": \"Arabic\"}, {\"Unnamed: 0\": 13, \"langid\": \"el\", \"avg_price_range\": 1.8822418136020151, \"count_reviews\": 1588, \"language\": \"Greek\"}, {\"Unnamed: 0\": 61, \"langid\": \"tr\", \"avg_price_range\": 1.8357400722021664, \"count_reviews\": 554, \"language\": \"Turkish\"}, {\"Unnamed: 0\": 10, \"langid\": \"cs\", \"avg_price_range\": 1.8349056603773584, \"count_reviews\": 212, \"language\": \"Czech\"}, {\"Unnamed: 0\": 16, \"langid\": \"es\", \"avg_price_range\": 1.815148045149681, \"count_reviews\": 24452, \"language\": \"Spanish\"}, {\"Unnamed: 0\": 26, \"langid\": \"hu\", \"avg_price_range\": 1.7566666666666666, \"count_reviews\": 300, \"language\": \"Hungarian\"}, {\"Unnamed: 0\": 47, \"langid\": \"pl\", \"avg_price_range\": 1.725818181818182, \"count_reviews\": 1375, \"language\": \"Polish\"}]}}, {\"mode\": \"vega-lite\"});\n",
       "</script>"
      ],
      "text/plain": [
       "alt.Chart(...)"
      ]
     },
     "execution_count": 15,
     "metadata": {},
     "output_type": "execute_result"
    }
   ],
   "execution_count": 15
  },
  {
   "metadata": {
    "ExecuteTime": {
     "end_time": "2024-07-11T22:32:51.798772Z",
     "start_time": "2024-07-11T22:32:51.777749Z"
    }
   },
   "cell_type": "code",
   "source": "chart.save('PriceByLanguage_data.json')",
   "id": "257b5ea9f4bc8a0e",
   "outputs": [],
   "execution_count": 16
  },
  {
   "metadata": {
    "ExecuteTime": {
     "end_time": "2024-07-11T22:39:21.709865Z",
     "start_time": "2024-07-11T22:39:21.698637Z"
    }
   },
   "cell_type": "code",
   "source": "# Dark theme",
   "id": "cac2ac7e6a6fa3a2",
   "outputs": [],
   "execution_count": 17
  },
  {
   "metadata": {
    "ExecuteTime": {
     "end_time": "2024-07-11T22:44:49.752206Z",
     "start_time": "2024-07-11T22:44:49.746368Z"
    }
   },
   "cell_type": "code",
   "source": [
    "dark_theme = {\n",
    "    'config': {\n",
    "        'background': '#1d2d3c',\n",
    "        'title': {\n",
    "            'color': 'white'\n",
    "        },\n",
    "        'axis': {\n",
    "            'domainColor': 'white',\n",
    "            'gridColor': 'gray',\n",
    "            'tickColor': 'white',\n",
    "            'titleColor': 'white',\n",
    "            'labelColor': 'white'\n",
    "        },\n",
    "        'legend': {\n",
    "            'labelColor': 'white',\n",
    "            'titleColor': 'white'\n",
    "        }\n",
    "    }\n",
    "}\n",
    "\n",
    "# Registra e applica il tema\n",
    "alt.themes.register('dark_theme', lambda: dark_theme)\n",
    "alt.themes.enable('dark_theme')"
   ],
   "id": "4e6d5f9fb7e85f24",
   "outputs": [
    {
     "data": {
      "text/plain": [
       "ThemeRegistry.enable('dark_theme')"
      ]
     },
     "execution_count": 23,
     "metadata": {},
     "output_type": "execute_result"
    }
   ],
   "execution_count": 23
  },
  {
   "metadata": {
    "ExecuteTime": {
     "end_time": "2024-07-11T22:44:50.912781Z",
     "start_time": "2024-07-11T22:44:50.897902Z"
    }
   },
   "cell_type": "code",
   "source": "chart",
   "id": "94e731b7d37cecd0",
   "outputs": [
    {
     "data": {
      "text/html": [
       "\n",
       "<style>\n",
       "  #altair-viz-a825323d6f344cfab091434304c44ca1.vega-embed {\n",
       "    width: 100%;\n",
       "    display: flex;\n",
       "  }\n",
       "\n",
       "  #altair-viz-a825323d6f344cfab091434304c44ca1.vega-embed details,\n",
       "  #altair-viz-a825323d6f344cfab091434304c44ca1.vega-embed details summary {\n",
       "    position: relative;\n",
       "  }\n",
       "</style>\n",
       "<div id=\"altair-viz-a825323d6f344cfab091434304c44ca1\"></div>\n",
       "<script type=\"text/javascript\">\n",
       "  var VEGA_DEBUG = (typeof VEGA_DEBUG == \"undefined\") ? {} : VEGA_DEBUG;\n",
       "  (function(spec, embedOpt){\n",
       "    let outputDiv = document.currentScript.previousElementSibling;\n",
       "    if (outputDiv.id !== \"altair-viz-a825323d6f344cfab091434304c44ca1\") {\n",
       "      outputDiv = document.getElementById(\"altair-viz-a825323d6f344cfab091434304c44ca1\");\n",
       "    }\n",
       "    const paths = {\n",
       "      \"vega\": \"https://cdn.jsdelivr.net/npm/vega@5?noext\",\n",
       "      \"vega-lib\": \"https://cdn.jsdelivr.net/npm/vega-lib?noext\",\n",
       "      \"vega-lite\": \"https://cdn.jsdelivr.net/npm/vega-lite@5.17.0?noext\",\n",
       "      \"vega-embed\": \"https://cdn.jsdelivr.net/npm/vega-embed@6?noext\",\n",
       "    };\n",
       "\n",
       "    function maybeLoadScript(lib, version) {\n",
       "      var key = `${lib.replace(\"-\", \"\")}_version`;\n",
       "      return (VEGA_DEBUG[key] == version) ?\n",
       "        Promise.resolve(paths[lib]) :\n",
       "        new Promise(function(resolve, reject) {\n",
       "          var s = document.createElement('script');\n",
       "          document.getElementsByTagName(\"head\")[0].appendChild(s);\n",
       "          s.async = true;\n",
       "          s.onload = () => {\n",
       "            VEGA_DEBUG[key] = version;\n",
       "            return resolve(paths[lib]);\n",
       "          };\n",
       "          s.onerror = () => reject(`Error loading script: ${paths[lib]}`);\n",
       "          s.src = paths[lib];\n",
       "        });\n",
       "    }\n",
       "\n",
       "    function showError(err) {\n",
       "      outputDiv.innerHTML = `<div class=\"error\" style=\"color:red;\">${err}</div>`;\n",
       "      throw err;\n",
       "    }\n",
       "\n",
       "    function displayChart(vegaEmbed) {\n",
       "      vegaEmbed(outputDiv, spec, embedOpt)\n",
       "        .catch(err => showError(`Javascript Error: ${err.message}<br>This usually means there's a typo in your chart specification. See the javascript console for the full traceback.`));\n",
       "    }\n",
       "\n",
       "    if(typeof define === \"function\" && define.amd) {\n",
       "      requirejs.config({paths});\n",
       "      require([\"vega-embed\"], displayChart, err => showError(`Error loading script: ${err.message}`));\n",
       "    } else {\n",
       "      maybeLoadScript(\"vega\", \"5\")\n",
       "        .then(() => maybeLoadScript(\"vega-lite\", \"5.17.0\"))\n",
       "        .then(() => maybeLoadScript(\"vega-embed\", \"6\"))\n",
       "        .catch(showError)\n",
       "        .then(() => displayChart(vegaEmbed));\n",
       "    }\n",
       "  })({\"config\": {\"background\": \"#16222D\", \"title\": {\"color\": \"white\"}, \"axis\": {\"domainColor\": \"white\", \"gridColor\": \"gray\", \"tickColor\": \"white\", \"titleColor\": \"white\", \"labelColor\": \"white\"}, \"legend\": {\"labelColor\": \"white\", \"titleColor\": \"white\"}}, \"data\": {\"name\": \"data-6e9c74186e06b6dac608085ce72c07e2\"}, \"mark\": {\"type\": \"bar\", \"opacity\": 0.8}, \"encoding\": {\"color\": {\"field\": \"avg_price_range\", \"scale\": {\"scheme\": \"goldorange\"}, \"type\": \"quantitative\"}, \"tooltip\": [{\"field\": \"avg_price_range\", \"type\": \"quantitative\"}, {\"field\": \"count_reviews\", \"type\": \"quantitative\"}], \"x\": {\"field\": \"avg_price_range\", \"title\": \"Average Price Range\", \"type\": \"quantitative\"}, \"y\": {\"field\": \"language\", \"sort\": \"-x\", \"title\": \"Language\", \"type\": \"nominal\"}}, \"height\": 500, \"title\": \"Average Price Range by Language\", \"width\": \"container\", \"$schema\": \"https://vega.github.io/schema/vega-lite/v5.17.0.json\", \"datasets\": {\"data-6e9c74186e06b6dac608085ce72c07e2\": [{\"Unnamed: 0\": 45, \"langid\": \"no\", \"avg_price_range\": 1.9852255054432348, \"count_reviews\": 1286, \"language\": \"Norwegian\"}, {\"Unnamed: 0\": 11, \"langid\": \"da\", \"avg_price_range\": 1.970159151193634, \"count_reviews\": 1508, \"language\": \"Danish\"}, {\"Unnamed: 0\": 14, \"langid\": \"en\", \"avg_price_range\": 1.963133985856788, \"count_reviews\": 106765, \"language\": \"English\"}, {\"Unnamed: 0\": 31, \"langid\": \"ja\", \"avg_price_range\": 1.960280373831776, \"count_reviews\": 856, \"language\": \"Japanese\"}, {\"Unnamed: 0\": 30, \"langid\": \"it\", \"avg_price_range\": 1.9525284181615843, \"count_reviews\": 322593, \"language\": \"Italian\"}, {\"Unnamed: 0\": 51, \"langid\": \"ru\", \"avg_price_range\": 1.938039990125895, \"count_reviews\": 4051, \"language\": \"Russian\"}, {\"Unnamed: 0\": 57, \"langid\": \"sv\", \"avg_price_range\": 1.9379398592450416, \"count_reviews\": 1563, \"language\": \"Swedish\"}, {\"Unnamed: 0\": 43, \"langid\": \"nl\", \"avg_price_range\": 1.9251325989392083, \"count_reviews\": 4902, \"language\": \"Dutch\"}, {\"Unnamed: 0\": 66, \"langid\": \"zh\", \"avg_price_range\": 1.9248927038626609, \"count_reviews\": 466, \"language\": \"Chinese\"}, {\"Unnamed: 0\": 23, \"langid\": \"he\", \"avg_price_range\": 1.924342105263158, \"count_reviews\": 608, \"language\": \"Hebrew\"}, {\"Unnamed: 0\": 48, \"langid\": \"pt\", \"avg_price_range\": 1.923376062220942, \"count_reviews\": 6943, \"language\": \"Portuguese\"}, {\"Unnamed: 0\": 12, \"langid\": \"de\", \"avg_price_range\": 1.9214551015949315, \"count_reviews\": 9154, \"language\": \"German\"}, {\"Unnamed: 0\": 53, \"langid\": \"sk\", \"avg_price_range\": 1.9113924050632911, \"count_reviews\": 79, \"language\": \"Slovak\"}, {\"Unnamed: 0\": 21, \"langid\": \"fr\", \"avg_price_range\": 1.901488450671405, \"count_reviews\": 34331, \"language\": \"French\"}, {\"Unnamed: 0\": 24, \"langid\": \"hr\", \"avg_price_range\": 1.8953488372093024, \"count_reviews\": 86, \"language\": \"Croatian\"}, {\"Unnamed: 0\": 20, \"langid\": \"fi\", \"avg_price_range\": 1.886255924170616, \"count_reviews\": 211, \"language\": \"Finnish\"}, {\"Unnamed: 0\": 35, \"langid\": \"ko\", \"avg_price_range\": 1.8854166666666667, \"count_reviews\": 384, \"language\": \"Korean\"}, {\"Unnamed: 0\": 3, \"langid\": \"ar\", \"avg_price_range\": 1.8846153846153848, \"count_reviews\": 78, \"language\": \"Arabic\"}, {\"Unnamed: 0\": 13, \"langid\": \"el\", \"avg_price_range\": 1.8822418136020151, \"count_reviews\": 1588, \"language\": \"Greek\"}, {\"Unnamed: 0\": 61, \"langid\": \"tr\", \"avg_price_range\": 1.8357400722021664, \"count_reviews\": 554, \"language\": \"Turkish\"}, {\"Unnamed: 0\": 10, \"langid\": \"cs\", \"avg_price_range\": 1.8349056603773584, \"count_reviews\": 212, \"language\": \"Czech\"}, {\"Unnamed: 0\": 16, \"langid\": \"es\", \"avg_price_range\": 1.815148045149681, \"count_reviews\": 24452, \"language\": \"Spanish\"}, {\"Unnamed: 0\": 26, \"langid\": \"hu\", \"avg_price_range\": 1.7566666666666666, \"count_reviews\": 300, \"language\": \"Hungarian\"}, {\"Unnamed: 0\": 47, \"langid\": \"pl\", \"avg_price_range\": 1.725818181818182, \"count_reviews\": 1375, \"language\": \"Polish\"}]}}, {\"mode\": \"vega-lite\"});\n",
       "</script>"
      ],
      "text/plain": [
       "alt.Chart(...)"
      ]
     },
     "execution_count": 24,
     "metadata": {},
     "output_type": "execute_result"
    }
   ],
   "execution_count": 24
  },
  {
   "metadata": {
    "ExecuteTime": {
     "end_time": "2024-07-11T22:45:01.732068Z",
     "start_time": "2024-07-11T22:45:01.717852Z"
    }
   },
   "cell_type": "code",
   "source": "chart.save('PriceByLanguage_dark.json')",
   "id": "9a9a46c7d6ed8c4a",
   "outputs": [],
   "execution_count": 25
  },
  {
   "metadata": {},
   "cell_type": "code",
   "outputs": [],
   "execution_count": null,
   "source": "",
   "id": "d17c391dd1056b55"
  }
 ],
 "metadata": {
  "kernelspec": {
   "display_name": "Python 3",
   "language": "python",
   "name": "python3"
  },
  "language_info": {
   "codemirror_mode": {
    "name": "ipython",
    "version": 2
   },
   "file_extension": ".py",
   "mimetype": "text/x-python",
   "name": "python",
   "nbconvert_exporter": "python",
   "pygments_lexer": "ipython2",
   "version": "2.7.6"
  }
 },
 "nbformat": 4,
 "nbformat_minor": 5
}
